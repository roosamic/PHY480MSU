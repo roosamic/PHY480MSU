{
 "cells": [
  {
   "cell_type": "code",
   "execution_count": 2,
   "metadata": {
    "collapsed": false
   },
   "outputs": [],
   "source": [
    "import matplotlib.pyplot as plt \n",
    "%matplotlib inline \n",
    "import numpy as np \n",
    "import math\n",
    "import time \n",
    "from scipy import linalg as la\n",
    "import copy as cp "
   ]
  },
  {
   "cell_type": "code",
   "execution_count": 4,
   "metadata": {
    "collapsed": false
   },
   "outputs": [
    {
     "name": "stdout",
     "output_type": "stream",
     "text": [
      "[  3.01428603+0.j   7.03122801+0.j  11.04564063+0.j  15.05752148+0.j]\n"
     ]
    }
   ],
   "source": [
    "'''\n",
    "this cell sets up the matrix for non-interacting particles. \n",
    "'''\n",
    "\n",
    "n = 200\n",
    "\n",
    "#(p0,pmax,n)\n",
    "p = np.linspace(0,10, num = n)\n",
    "\n",
    "\n",
    "#uses of stepsize are actually defined in terms of 1/h for simplicity\n",
    "hh = (n/(p[-1] - p[0]))**2\n",
    "hh2 = 2*hh\n",
    "\n",
    "\n",
    "#this cuts off the endpoints \n",
    "A = np.zeros(shape = (n-1,n-1))\n",
    "V = np.zeros(n+1)\n",
    "\n",
    "\n",
    "for i in range(n):\n",
    "    V[i] = p[i]**2\n",
    "\n",
    "for i in range(n-1):\n",
    "        A[i][i] = hh2+V[i+1]\n",
    "        \n",
    "#we evaluate v[i+1] so that we avoid the 0 point \n",
    "#dont overwrite (n-2)\n",
    "for i in range(n-2):\n",
    "        A[i+1][i]= A[i][i+1] = -hh\n",
    "\n",
    "\n",
    "\n",
    "#test that the matrix is set up correctly, expect 3,7,11,...\n",
    "evals = la.eigvals(A)\n",
    "\n",
    "\n",
    "s = np.sort(evals)\n",
    "print(s[0:4])\n",
    "\n"
   ]
  },
  {
   "cell_type": "code",
   "execution_count": 6,
   "metadata": {
    "collapsed": false
   },
   "outputs": [
    {
     "name": "stdout",
     "output_type": "stream",
     "text": [
      "[  4.06995310+0.j   7.93900655+0.j  11.86328232+0.j  15.81224591+0.j]\n"
     ]
    },
    {
     "name": "stderr",
     "output_type": "stream",
     "text": [
      "/home/mroosa/anaconda3/lib/python3.5/site-packages/ipykernel/__main__.py:16: RuntimeWarning: divide by zero encountered in double_scalars\n"
     ]
    }
   ],
   "source": [
    "\n",
    "#this is essentially the same as above but re-writen for coulomb interaction assuming omega = 1 \n",
    "#i have removed redundant comments \n",
    "\n",
    "n=200\n",
    "p = np.linspace(0,10, num = n)\n",
    "\n",
    "hh = (n/(p[-1] - p[0]))**2\n",
    "hh2 = 2*hh\n",
    "\n",
    "A = np.zeros(shape = (n-1,n-1))\n",
    "V = np.zeros(n+1)\n",
    "\n",
    "\n",
    "\n",
    "for i in range(n):\n",
    "    V[i] = (p[i]**2)+(p[i]**(-1))\n",
    "\n",
    "for i in range(n-1):\n",
    "        A[i][i] = hh2+V[i+1]\n",
    "\n",
    "for i in range(n-2):\n",
    "        A[i+1][i]= A[i][i+1] = -hh\n",
    "\n",
    "        \n",
    "        \n",
    "evals = la.eigvals(A)\n",
    "s = np.sort(evals)\n",
    "print(s[0:4])\n"
   ]
  },
  {
   "cell_type": "code",
   "execution_count": 12,
   "metadata": {
    "collapsed": false
   },
   "outputs": [
    {
     "data": {
      "text/plain": [
       "(4.0, 0, 1)"
      ]
     },
     "execution_count": 12,
     "metadata": {},
     "output_type": "execute_result"
    }
   ],
   "source": [
    "test = np.array([[2.0,-4.0],[-4.0,1.0]])\n",
    "\n",
    "#find largest non-diagonal and its address \n",
    "def pickmax(a):\n",
    "    \n",
    "    #initialize the maximum value and its indices, big=-1 to gaurentee the > is met at least once\n",
    "    big = -1. \n",
    "    indi = 0\n",
    "    indj = 0\n",
    "    \n",
    "    #iterate over matrix (input a) to find largest value, i+1 in j to get i != j w/o extra if statement\n",
    "    for i in range(len(a)):\n",
    "        for j in range(i+1,len(a)):\n",
    "            if abs(a[i][j])> big:\n",
    "                big = abs(a[i][j])\n",
    "                indi = i\n",
    "                indj = j\n",
    "    return big, indi, indj\n",
    "\n",
    "\n",
    "pickmax(test)"
   ]
  },
  {
   "cell_type": "code",
   "execution_count": 13,
   "metadata": {
    "collapsed": false
   },
   "outputs": [
    {
     "data": {
      "text/plain": [
       "(0.88278221853731875, 0.7496781758158659, 0.66180256323574027)"
      ]
     },
     "execution_count": 13,
     "metadata": {},
     "output_type": "execute_result"
    }
   ],
   "source": [
    "test = np.array([[2.0,-4.0],[-4.0,1.0]])\n",
    "\n",
    "#set the sin,cos and tan for the max value\n",
    "def settrig(a,p,q):\n",
    "    \n",
    "    #initialize tan, sin,l and cos respectively  \n",
    "    t = s = c = 0\n",
    "    \n",
    "    #handles the non-singular case\n",
    "    if a[p][q] != 0:\n",
    "        tau = (a[q][q]-a[p][p])/(2*a[p][q])\n",
    "    \n",
    "        if tau < 0:\n",
    "             t = -(-tau+math.sqrt(1+tau**2))**(-1.)\n",
    "        else: \n",
    "            t = (tau+math.sqrt(1+tau**2))**(-1.)\n",
    "        c = (math.sqrt(1+t**2))**(-1.)\n",
    "        s = t*c\n",
    "\n",
    "    else:\n",
    "        c = 1.0\n",
    "        s = 0.0\n",
    "    return t,c,s\n",
    "\n",
    "\n",
    "settrig(test,0,1)"
   ]
  },
  {
   "cell_type": "code",
   "execution_count": 15,
   "metadata": {
    "collapsed": false
   },
   "outputs": [
    {
     "data": {
      "text/plain": [
       "(array([[ 5.53112887,  0.        ],\n",
       "        [ 0.        , -2.53112887]]), 4.0)"
      ]
     },
     "execution_count": 15,
     "metadata": {},
     "output_type": "execute_result"
    }
   ],
   "source": [
    "test = np.array([[2.0,-4.0],[-4.0,1.0]])\n",
    "testvals = la.eigvals(test)\n",
    "\n",
    "\n",
    "\n",
    "# 1 jacobi transformation\n",
    "def jacobi(a):\n",
    "    \n",
    "    #find inputs to jacobi algo \n",
    "    maxval, p, q = pickmax(a)\n",
    "    t,c,s = settrig(a,p,q)\n",
    "    \n",
    "    #note effective 'call by value' \n",
    "    b = cp.copy(a)\n",
    "    \n",
    "    #jacobi iteration \n",
    "    for i in range(len(a)):\n",
    "        if i!=p or i!=q:\n",
    "            #rotation \n",
    "            b[i][p] = a[i][p]*c-a[i][q]*s\n",
    "            b[i][q] = a[i][q]*c+a[i][p]*s\n",
    "            #force symmetry\n",
    "            b[p][i] = b[i][p]\n",
    "            b[q][i] = b[i][q]\n",
    "    #force realtions for diagonal vals & maxval\n",
    "    b[p][p] = a[p][p]*c**2-2*a[p][q]*c*s+a[q][q]*s**2\n",
    "    b[q][q] = a[p][p]*s**2+2*a[p][q]*c*s+a[q][q]*c**2\n",
    "    b[p][q] = b[q][p] = 0\n",
    "    \n",
    "    return b,maxval\n",
    "    \n",
    "jacobi(test)"
   ]
  },
  {
   "cell_type": "code",
   "execution_count": 17,
   "metadata": {
    "collapsed": false
   },
   "outputs": [
    {
     "data": {
      "text/plain": [
       "array([[ 2.        ,  0.        ,  0.        ],\n",
       "       [ 0.        ,  6.73205081,  0.        ],\n",
       "       [ 0.        ,  0.        ,  3.26794919]])"
      ]
     },
     "execution_count": 17,
     "metadata": {},
     "output_type": "execute_result"
    }
   ],
   "source": [
    "test3 = np.array([[4.,2.,1.],[2.,4.,1.],[1.,1.,4.]])\n",
    "\n",
    "\n",
    "#Actual solver input: nxn matrix, value of tolerance (suggested 10**-5) \n",
    "def esolver(matrix, tolerance):\n",
    "    \n",
    "    #initailize & gaurentee 1  iteration \n",
    "    maxval = tolerance+1\n",
    "    \n",
    "    #iterate until tolerable \n",
    "    while tolerance<=maxval:\n",
    "        matrix, maxval =jacobi(matrix )\n",
    "        \n",
    "    return matrix\n",
    "\n",
    "\n",
    "\n",
    "esolver(test3,.001)"
   ]
  }
 ],
 "metadata": {
  "anaconda-cloud": {},
  "kernelspec": {
   "display_name": "Python [conda root]",
   "language": "python",
   "name": "conda-root-py"
  },
  "language_info": {
   "codemirror_mode": {
    "name": "ipython",
    "version": 3
   },
   "file_extension": ".py",
   "mimetype": "text/x-python",
   "name": "python",
   "nbconvert_exporter": "python",
   "pygments_lexer": "ipython3",
   "version": "3.5.2"
  }
 },
 "nbformat": 4,
 "nbformat_minor": 1
}
