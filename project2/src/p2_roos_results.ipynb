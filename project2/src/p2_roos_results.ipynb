{
 "cells": [
  {
   "cell_type": "code",
   "execution_count": 3,
   "metadata": {
    "collapsed": true
   },
   "outputs": [],
   "source": [
    "import matplotlib.pyplot as plt \n",
    "%matplotlib inline \n",
    "import numpy as np \n",
    "import math\n",
    "import time \n",
    "from scipy import linalg as la\n",
    "import copy as cp "
   ]
  },
  {
   "cell_type": "code",
   "execution_count": 4,
   "metadata": {
    "collapsed": false
   },
   "outputs": [],
   "source": [
    "def pickmax(a):\n",
    "    \n",
    "    #initialize the maximum value and its indices, big=-1 to gaurentee the > is met at least once\n",
    "    big = -1. \n",
    "    indi = 0\n",
    "    indj = 0\n",
    "    \n",
    "    #iterate over matrix (input a) to find largest value, i+1 in j to get i != j w/o extra if statement\n",
    "\n",
    "    for i in range(len(a)):\n",
    "        for j in range(i+1,len(a)):\n",
    "            if abs(a[i][j])> big:\n",
    "                big = abs(a[i][j])\n",
    "                indi = i\n",
    "                indj = j\n",
    "    return big, indi, indj\n",
    "\n",
    "def settrig(a,p,q):\n",
    "    \n",
    "    #initialize tan, sin,l and cos respectively  \n",
    "    t = s = c = 0\n",
    "    \n",
    "    #handles the non-singular case\n",
    "    if a[p][q] != 0:\n",
    "        tau = (a[q][q]-a[p][p])/(2*a[p][q])\n",
    "    \n",
    "        if tau < 0:\n",
    "             t = -(-tau+math.sqrt(1+tau**2))**(-1.)\n",
    "        else: \n",
    "            t = (tau+math.sqrt(1+tau**2))**(-1.)\n",
    "        c = (math.sqrt(1+t**2))**(-1.)\n",
    "        s = t*c\n",
    "\n",
    "    else:\n",
    "        c = 1.0\n",
    "        s = 0.0\n",
    "    return t,c,s\n",
    "\n",
    "def jacobi(a):\n",
    "    \n",
    "    #find inputs to jacobi algo \n",
    "    maxval, p, q = pickmax(a)\n",
    "    t,c,s = settrig(a,p,q)\n",
    "    \n",
    "    #note effective 'call by value' \n",
    "    b = cp.copy(a)\n",
    "    \n",
    "    #jacobi iteration \n",
    "    for i in range(len(a)):\n",
    "        if i!=p or i!=q:\n",
    "            #rotation \n",
    "            b[i][p] = a[i][p]*c-a[i][q]*s\n",
    "            b[i][q] = a[i][q]*c+a[i][p]*s\n",
    "            #force symmetry\n",
    "            b[p][i] = b[i][p]\n",
    "            b[q][i] = b[i][q]\n",
    "    #force realtions for diagonal vals & maxval\n",
    "    b[p][p] = a[p][p]*c**2-2*a[p][q]*c*s+a[q][q]*s**2\n",
    "    b[q][q] = a[p][p]*s**2+2*a[p][q]*c*s+a[q][q]*c**2\n",
    "    b[p][q] = b[q][p] = 0\n",
    "    \n",
    "    return b,maxval\n",
    "\n",
    "def esolver(matrix, tolerance):\n",
    "    \n",
    "    #initailize & gaurentee 1  iteration \n",
    "    maxval = tolerance+1\n",
    "    \n",
    "    #iterate until tolerable \n",
    "    while tolerance<=maxval:\n",
    "        matrix, maxval =jacobi(matrix )\n",
    "        \n",
    "    return matrix"
   ]
  },
  {
   "cell_type": "code",
   "execution_count": 18,
   "metadata": {
    "collapsed": false
   },
   "outputs": [
    {
     "name": "stderr",
     "output_type": "stream",
     "text": [
      "/home/mroosa/anaconda3/lib/python3.5/site-packages/ipykernel/__main__.py:15: RuntimeWarning: divide by zero encountered in double_scalars\n"
     ]
    }
   ],
   "source": [
    "\n",
    "\n",
    "\n",
    "def makemat(pmax,omega,n):\n",
    "    p = np.linspace(0,pmax, num = n)\n",
    "\n",
    "    hh = (n/(p[-1] - p[0]))**2\n",
    "    hh2 = 2*hh\n",
    "    #this cuts off the endpoints \n",
    "    A = np.zeros(shape = (n-1,n-1))\n",
    "    V = np.zeros(n+1)\n",
    "\n",
    "\n",
    "    for i in range(n):\n",
    "        V[i] = ((omega*p[i])**2)+(p[i]**(-1))\n",
    "\n",
    "    for i in range(n-1):\n",
    "            A[i][i] = hh2+V[i+1]\n",
    "    #we evaluate v[i+1] so that we avoid the 0 point \n",
    "    #dont overwrite (n-2)\n",
    "    for i in range(n-2):\n",
    "            A[i+1][i]= A[i][i+1] = -hh\n",
    "    return A\n",
    "\n",
    "\n",
    "#output of the solver can be sloppy, lets clean it up.  \n",
    "def clean(a):\n",
    "    evals  = []\n",
    "    #pick the diagonals\n",
    "    for i in range(len(A)):\n",
    "        evals.append(A[i][i])\n",
    "        \n",
    "    #sorted for easy reading \n",
    "    sorted_evals  = np.sort(evals)\n",
    "    return sorted_evals\n",
    "\n",
    "\n",
    "\n",
    "\n"
   ]
  },
  {
   "cell_type": "code",
   "execution_count": 20,
   "metadata": {
    "collapsed": false
   },
   "outputs": [
    {
     "name": "stderr",
     "output_type": "stream",
     "text": [
      "/home/mroosa/anaconda3/lib/python3.5/site-packages/ipykernel/__main__.py:15: RuntimeWarning: divide by zero encountered in double_scalars\n"
     ]
    },
    {
     "data": {
      "text/plain": [
       "array([  50.75001888,   50.75731807,   50.75782057,   50.77821051,\n",
       "         50.78348708,   50.80944921,   50.83444853,   50.85029414,\n",
       "         50.89983414,   50.92007346,   50.95738582,   51.02242661,\n",
       "         51.05812972,   51.09455005,   51.17343525,   51.2588255 ,\n",
       "         51.28415302,   51.350513  ,   51.44832772,   51.5521292 ,\n",
       "         51.66180039,   51.68106003,   51.77724297,   51.89837375,\n",
       "         52.02512186,   52.15742656,   52.29523547,   52.43850322,\n",
       "         52.49760076,   52.58719027,   52.74126204,   52.90068813,\n",
       "         53.06544173,   53.23549909,   53.41083907,   53.59144287,\n",
       "         53.77729362,   53.9683762 ,   54.16467701,   54.36618377,\n",
       "         54.57288535,   54.78477169,   54.97752519,   55.00183362,\n",
       "         55.22406279,   55.45145159,   55.68399303,   55.92168073,\n",
       "         56.16450882,   56.41247189,   56.66556498,   56.92378348,\n",
       "         57.18712315,   57.45558005,   57.72915054,   58.00783123,\n",
       "         58.29161898,   58.58051084,   58.8745041 ,   59.17359619,\n",
       "         59.47778475,   59.78706752,   60.10144243,   60.42090753,\n",
       "         60.74546096,   61.07510102,   61.40982607,   61.74963458,\n",
       "         62.09452513,   62.44449634,   62.79954695,   63.15967574,\n",
       "         63.52488158,   63.89516337,   64.2705201 ,   64.65095079,\n",
       "         65.03645453,   65.42703045,   65.82267772,   66.22339555,\n",
       "         66.62918319,   67.04003994,   67.45596511,   67.87695807,\n",
       "         68.30301819,   68.73414489,   69.17033762,   69.61159583,\n",
       "         70.05791903,   70.50930672,   70.96575843,   71.42727373,\n",
       "         71.89385219,   72.3654934 ,   72.84219696,   73.32396251,\n",
       "         73.81078968,   74.30267814,   74.79962754,   75.30163758,\n",
       "         75.80870794,   76.32083835,   76.8380285 ,   77.36027814,\n",
       "         77.88758701,   78.41995485,   78.95738142,   79.49986649,\n",
       "         80.04740983,   80.60001124,   81.15767051,   81.72038742,\n",
       "         82.2881618 ,   82.86099345,   83.43888219,   84.02182786,\n",
       "         84.60983027,   85.20288928,   85.80100472,   86.40417645,\n",
       "         87.01240431,   87.62568816,   88.24402787,   88.86742331,\n",
       "         89.49587434,   90.12938085,   90.7679427 ,   91.4115598 ,\n",
       "         92.06023201,   92.71395924,   93.37274137,   94.03657831,\n",
       "         94.70546995,   95.3794162 ,   96.05841696,   96.74247215,\n",
       "         97.43158166,   98.12574543,   98.82496336,   99.52923537,\n",
       "        100.23856138,  100.95294132,  101.67237512,  102.39686269,\n",
       "        103.12640398,  103.86099891,  104.60064741,  105.34534942,\n",
       "        106.09510487,  106.84991372,  107.60977589,  108.37469132,\n",
       "        109.14465997,  109.91968178,  110.69975668,  111.48488464,\n",
       "        112.27506559,  113.07029949,  113.8705863 ,  114.67592595,\n",
       "        115.48631841,  116.30176364,  117.12226158,  117.9478122 ,\n",
       "        118.77841545,  119.61407129,  120.45477969,  121.3005406 ,\n",
       "        122.15135398,  123.00721981,  123.86813804,  124.73410863,\n",
       "        125.60513156,  126.48120679,  127.36233428,  128.24851401,\n",
       "        129.13974594,  130.03603004,  130.93736629,  131.84375464,\n",
       "        132.75519508,  133.67168758,  134.5932321 ,  135.51982863,\n",
       "        136.45147713,  137.38817758,  138.32992995,  139.27673422,\n",
       "        140.22859037,  141.18549837,  142.1474582 ,  143.11446983,\n",
       "        144.08653324,  145.06364842,  146.04581534,  147.03303397,\n",
       "        148.02530431,  149.02262633,  150.025     ])"
      ]
     },
     "execution_count": 20,
     "metadata": {},
     "output_type": "execute_result"
    }
   ],
   "source": [
    "A = makemat(40,.25,200)\n",
    "clean(esolver(A,.00001))"
   ]
  },
  {
   "cell_type": "code",
   "execution_count": 8,
   "metadata": {
    "collapsed": true
   },
   "outputs": [],
   "source": [
    "#output of the solver can be sloppy, lets clean it up.  \n",
    "def clean(A):\n",
    "    evals  = []\n",
    "    #pick the diagonals\n",
    "    for i in len(A[0]):\n",
    "        evals.append(A[i][i])\n",
    "    sorted_evals  = np.sort(evals)\n",
    "    return sorted_evals\n",
    "    \n",
    "    "
   ]
  },
  {
   "cell_type": "code",
   "execution_count": null,
   "metadata": {
    "collapsed": true
   },
   "outputs": [],
   "source": []
  }
 ],
 "metadata": {
  "kernelspec": {
   "display_name": "Python [default]",
   "language": "python",
   "name": "python3"
  },
  "language_info": {
   "codemirror_mode": {
    "name": "ipython",
    "version": 3
   },
   "file_extension": ".py",
   "mimetype": "text/x-python",
   "name": "python",
   "nbconvert_exporter": "python",
   "pygments_lexer": "ipython3",
   "version": "3.5.2"
  }
 },
 "nbformat": 4,
 "nbformat_minor": 1
}
