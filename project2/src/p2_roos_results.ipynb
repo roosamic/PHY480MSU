{
 "cells": [
  {
   "cell_type": "code",
   "execution_count": 3,
   "metadata": {
    "collapsed": true
   },
   "outputs": [],
   "source": [
    "import matplotlib.pyplot as plt \n",
    "%matplotlib inline \n",
    "import numpy as np \n",
    "import math\n",
    "import time \n",
    "from scipy import linalg as la\n",
    "import copy as cp "
   ]
  },
  {
   "cell_type": "code",
   "execution_count": 4,
   "metadata": {
    "collapsed": false
   },
   "outputs": [],
   "source": [
    "def pickmax(a):\n",
    "    \n",
    "    #initialize the maximum value and its indices, big=-1 to gaurentee the > is met at least once\n",
    "    big = -1. \n",
    "    indi = 0\n",
    "    indj = 0\n",
    "    \n",
    "    #iterate over matrix (input a) to find largest value, i+1 in j to get i != j w/o extra if statement\n",
    "\n",
    "    for i in range(len(a)):\n",
    "        for j in range(i+1,len(a)):\n",
    "            if abs(a[i][j])> big:\n",
    "                big = abs(a[i][j])\n",
    "                indi = i\n",
    "                indj = j\n",
    "    return big, indi, indj\n",
    "\n",
    "def settrig(a,p,q):\n",
    "    \n",
    "    #initialize tan, sin,l and cos respectively  \n",
    "    t = s = c = 0\n",
    "    \n",
    "    #handles the non-singular case\n",
    "    if a[p][q] != 0:\n",
    "        tau = (a[q][q]-a[p][p])/(2*a[p][q])\n",
    "    \n",
    "        if tau < 0:\n",
    "             t = -(-tau+math.sqrt(1+tau**2))**(-1.)\n",
    "        else: \n",
    "            t = (tau+math.sqrt(1+tau**2))**(-1.)\n",
    "        c = (math.sqrt(1+t**2))**(-1.)\n",
    "        s = t*c\n",
    "\n",
    "    else:\n",
    "        c = 1.0\n",
    "        s = 0.0\n",
    "    return t,c,s\n",
    "\n",
    "def jacobi(a):\n",
    "    \n",
    "    #find inputs to jacobi algo \n",
    "    maxval, p, q = pickmax(a)\n",
    "    t,c,s = settrig(a,p,q)\n",
    "    \n",
    "    #note effective 'call by value' \n",
    "    b = cp.copy(a)\n",
    "    \n",
    "    #jacobi iteration \n",
    "    for i in range(len(a)):\n",
    "        if i!=p or i!=q:\n",
    "            #rotation \n",
    "            b[i][p] = a[i][p]*c-a[i][q]*s\n",
    "            b[i][q] = a[i][q]*c+a[i][p]*s\n",
    "            #force symmetry\n",
    "            b[p][i] = b[i][p]\n",
    "            b[q][i] = b[i][q]\n",
    "    #force realtions for diagonal vals & maxval\n",
    "    b[p][p] = a[p][p]*c**2-2*a[p][q]*c*s+a[q][q]*s**2\n",
    "    b[q][q] = a[p][p]*s**2+2*a[p][q]*c*s+a[q][q]*c**2\n",
    "    b[p][q] = b[q][p] = 0\n",
    "    \n",
    "    return b,maxval\n",
    "\n",
    "def esolver(matrix, tolerance):\n",
    "    \n",
    "    #initailize & gaurentee 1  iteration \n",
    "    maxval = tolerance+1\n",
    "    \n",
    "    #iterate until tolerable \n",
    "    while tolerance<=maxval:\n",
    "        matrix, maxval =jacobi(matrix )\n",
    "        \n",
    "    return matrix"
   ]
  },
  {
   "cell_type": "code",
   "execution_count": 18,
   "metadata": {
    "collapsed": false
   },
   "outputs": [
    {
     "name": "stderr",
     "output_type": "stream",
     "text": [
      "/home/mroosa/anaconda3/lib/python3.5/site-packages/ipykernel/__main__.py:15: RuntimeWarning: divide by zero encountered in double_scalars\n"
     ]
    }
   ],
   "source": [
    "\n",
    "\n",
    "\n",
    "def makemat(pmax,omega,n):\n",
    "    p = np.linspace(0,pmax, num = n)\n",
    "\n",
    "    hh = (n/(p[-1] - p[0]))**2\n",
    "    hh2 = 2*hh\n",
    "    #this cuts off the endpoints \n",
    "    A = np.zeros(shape = (n-1,n-1))\n",
    "    V = np.zeros(n+1)\n",
    "\n",
    "\n",
    "    for i in range(n):\n",
    "        V[i] = ((omega*p[i])**2)+(p[i]**(-1))\n",
    "\n",
    "    for i in range(n-1):\n",
    "            A[i][i] = hh2+V[i+1]\n",
    "    #we evaluate v[i+1] so that we avoid the 0 point \n",
    "    #dont overwrite (n-2)\n",
    "    for i in range(n-2):\n",
    "            A[i+1][i]= A[i][i+1] = -hh\n",
    "    return A\n",
    "\n",
    "\n",
    "#output of the solver can be sloppy, lets clean it up.  \n",
    "def clean(a):\n",
    "    evals  = []\n",
    "    #pick the diagonals\n",
    "    for i in range(len(A)):\n",
    "        evals.append(A[i][i])\n",
    "        \n",
    "    #sorted for easy reading \n",
    "    sorted_evals  = np.sort(evals)\n",
    "    return sorted_evals\n",
    "\n",
    "\n",
    "\n",
    "\n"
   ]
  },
  {
   "cell_type": "code",
   "execution_count": null,
   "metadata": {
    "collapsed": false
   },
   "outputs": [
    {
     "name": "stderr",
     "output_type": "stream",
     "text": [
      "/home/mroosa/anaconda3/lib/python3.5/site-packages/ipykernel/__main__.py:15: RuntimeWarning: divide by zero encountered in double_scalars\n"
     ]
    }
   ],
   "source": [
    "A = makemat(40,.25,200)\n",
    "B  = esolver(A,.00001)\n",
    "clean(B)"
   ]
  },
  {
   "cell_type": "code",
   "execution_count": 8,
   "metadata": {
    "collapsed": true
   },
   "outputs": [],
   "source": [
    "\n",
    "    "
   ]
  },
  {
   "cell_type": "code",
   "execution_count": null,
   "metadata": {
    "collapsed": true
   },
   "outputs": [],
   "source": []
  }
 ],
 "metadata": {
  "kernelspec": {
   "display_name": "Python [default]",
   "language": "python",
   "name": "python3"
  },
  "language_info": {
   "codemirror_mode": {
    "name": "ipython",
    "version": 3
   },
   "file_extension": ".py",
   "mimetype": "text/x-python",
   "name": "python",
   "nbconvert_exporter": "python",
   "pygments_lexer": "ipython3",
   "version": "3.5.2"
  }
 },
 "nbformat": 4,
 "nbformat_minor": 1
}
