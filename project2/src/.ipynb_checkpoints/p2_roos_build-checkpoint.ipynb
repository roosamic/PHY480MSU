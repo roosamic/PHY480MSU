{
 "cells": [
  {
   "cell_type": "code",
   "execution_count": 1,
   "metadata": {
    "collapsed": false
   },
   "outputs": [],
   "source": [
    "import matplotlib.pyplot as plt \n",
    "%matplotlib inline \n",
    "import numpy as np \n",
    "import math\n",
    "import time \n",
    "from scipy import linalg as la\n",
    "import copy as cp "
   ]
  },
  {
   "cell_type": "code",
   "execution_count": 36,
   "metadata": {
    "collapsed": false
   },
   "outputs": [
    {
     "name": "stdout",
     "output_type": "stream",
     "text": [
      "[    3.01428603+0.j     7.03122801+0.j    11.04564063+0.j\n",
      "    15.05752148+0.j    19.06686818+0.j    23.07367829+0.j\n",
      "    27.07794941+0.j    31.07967911+0.j    35.07886495+0.j\n",
      "    39.07550449+0.j    43.06959528+0.j    47.06113487+0.j\n",
      "    51.05012078+0.j    55.03655055+0.j    59.02042169+0.j\n",
      "    63.00173174+0.j    66.98047858+0.j    70.95666408+0.j\n",
      "    74.93032686+0.j    78.90177161+0.j    82.87278404+0.j\n",
      "    86.85120286+0.j    90.86158436+0.j    94.95536252+0.j\n",
      "    99.20043917+0.j   103.65113748+0.j   108.33201222+0.j\n",
      "   113.24551637+0.j   118.38481606+0.j   123.74107937+0.j\n",
      "   129.30607936+0.j   135.07275721+0.j   141.03514321+0.j\n",
      "   147.18814137+0.j   153.52732461+0.j   160.04877145+0.j\n",
      "   166.74894213+0.j   173.62458613+0.j   180.67267287+0.j\n",
      "   187.89033939+0.j   195.27485052+0.j   202.82356816+0.j\n",
      "   210.53392736+0.j   218.40341755+0.j   226.42956767+0.j\n",
      "   234.60993426+0.j   242.94209195+0.j   251.42362566+0.j\n",
      "   260.05212443+0.j   268.82517624+0.j   277.74036385+0.j\n",
      "   286.79526141+0.j   295.98743165+0.j   305.31442362+0.j\n",
      "   314.77377081+0.j   324.36298968+0.j   334.07957845+0.j\n",
      "   343.92101613+0.j   353.88476184+0.j   363.96825418+0.j\n",
      "   374.16891088+0.j   384.48412852+0.j   394.91128236+0.j\n",
      "   405.44772631+0.j   416.09079296+0.j   426.83779367+0.j\n",
      "   437.68601878+0.j   448.63273781+0.j   459.67519978+0.j\n",
      "   470.81063349+0.j   482.03624796+0.j   493.34923281+0.j\n",
      "   504.74675868+0.j   516.22597774+0.j   527.78402415+0.j\n",
      "   539.41801463+0.j   551.12504896+0.j   562.90221054+0.j\n",
      "   574.74656703+0.j   586.65517087+0.j   598.62505993+0.j\n",
      "   610.65325814+0.j   622.73677610+0.j   634.87261175+0.j\n",
      "   647.05775102+0.j   659.28916849+0.j   671.56382806+0.j\n",
      "   683.87868367+0.j   696.23067992+0.j   708.61675283+0.j\n",
      "   721.03383051+0.j   733.47883388+0.j   745.94867735+0.j\n",
      "   758.44026960+0.j   770.95051420+0.j   783.47631043+0.j\n",
      "   796.01455394+0.j   808.56213751+0.j   821.11595175+0.j\n",
      "   833.67288586+0.j   846.22982833+0.j   858.78366771+0.j\n",
      "   871.33129329+0.j   883.86959589+0.j   896.39546852+0.j\n",
      "   908.90580720+0.j   921.39751159+0.j   933.86748581+0.j\n",
      "   946.31263909+0.j   958.72988654+0.j   971.11614986+0.j\n",
      "   983.46835803+0.j   995.78344806+0.j  1008.05836568+0.j\n",
      "  1020.29006604+0.j  1032.47551444+0.j  1044.61168697+0.j\n",
      "  1056.69557125+0.j  1068.72416706+0.j  1080.69448709+0.j\n",
      "  1092.60355751+0.j  1104.44841870+0.j  1116.22612586+0.j\n",
      "  1127.93374966+0.j  1139.56837689+0.j  1151.12711101+0.j\n",
      "  1162.60707282+0.j  1174.00540100+0.j  1185.31925270+0.j\n",
      "  1196.54580410+0.j  1207.68225094+0.j  1218.72580901+0.j\n",
      "  1229.67371469+0.j  1240.52322539+0.j  1251.27161998+0.j\n",
      "  1261.91619924+0.j  1272.45428621+0.j  1282.88322652+0.j\n",
      "  1293.20038874+0.j  1303.40316461+0.j  1313.48896923+0.j\n",
      "  1323.45524125+0.j  1333.29944292+0.j  1343.01906016+0.j\n",
      "  1352.61160242+0.j  1362.07460262+0.j  1371.40561679+0.j\n",
      "  1380.60222378+0.j  1389.66202472+0.j  1398.58264234+0.j\n",
      "  1407.36172011+0.j  1415.99692124+0.j  1424.48592732+0.j\n",
      "  1432.82643679+0.j  1441.01616299+0.j  1449.05283186+0.j\n",
      "  1456.93417920+0.j  1464.65794731+0.j  1472.22188104+0.j\n",
      "  1479.62372299+0.j  1486.86120779+0.j  1493.93205517+0.j\n",
      "  1500.83396162+0.j  1507.56459025+0.j  1514.12155840+0.j\n",
      "  1520.50242251+0.j  1526.70465938+0.j  1532.72564280+0.j\n",
      "  1538.56261429+0.j  1544.21264585+0.j  1549.67259207+0.j\n",
      "  1554.93902771+0.j  1560.00816484+0.j  1564.87574076+0.j\n",
      "  1569.53686266+0.j  1573.98578615+0.j  1578.21558800+0.j\n",
      "  1582.21766057+0.j  1585.98088440+0.j  1589.49016338+0.j\n",
      "  1592.72352860+0.j  1595.64570804+0.j  1598.20363623+0.j\n",
      "  1600.45434605+0.j  1602.81083502+0.j  1605.55694104+0.j\n",
      "  1608.68250091+0.j  1612.15682839+0.j  1615.97127322+0.j\n",
      "  1620.13160364+0.j  1624.65493221+0.j  1629.56982882+0.j\n",
      "  1634.91870842+0.j  1640.76300069+0.j  1647.19309993+0.j\n",
      "  1654.34832461+0.j  1662.46185132+0.j  1671.98434892+0.j\n",
      "  1684.08319261+0.j]\n"
     ]
    }
   ],
   "source": [
    "n = 200\n",
    "\n",
    "#(p0,pmax,n)\n",
    "p = np.linspace(0,10, num = n)\n",
    "\n",
    "hh = (n/(p[-1] - p[0]))**2\n",
    "hh2 = 2*hh\n",
    "#this cuts off the endpoints \n",
    "A = np.zeros(shape = (n-1,n-1))\n",
    "V = np.zeros(n+1)\n",
    "\n",
    "#initialize \n",
    "starttime = time.time()\n",
    "\n",
    "for i in range(n):\n",
    "    V[i] = p[i]**2\n",
    "\n",
    "for i in range(n-1):\n",
    "        A[i][i] = hh2+V[i+1]\n",
    "#we evaluate v[i+1] so that we avoid the 0 point \n",
    "#dont overwrite (n-2)\n",
    "for i in range(n-2):\n",
    "        A[i+1][i]= A[i][i+1] = -hh\n",
    "\n",
    "\n",
    "\n",
    "\n",
    "\n",
    "\n",
    "\n",
    "\n",
    "evals = la.eigvals(A)\n",
    "#print(evals)\n",
    "total = time.time()-starttime\n",
    "\n",
    "s = np.sort(evals)\n",
    "print(s)\n",
    "\n"
   ]
  },
  {
   "cell_type": "code",
   "execution_count": null,
   "metadata": {
    "collapsed": false
   },
   "outputs": [],
   "source": []
  },
  {
   "cell_type": "code",
   "execution_count": null,
   "metadata": {
    "collapsed": false
   },
   "outputs": [],
   "source": [
    "#(p0,pmax,n)\n",
    "n=100\n",
    "#\n",
    "p = np.linspace(0,10, num = n)\n",
    "\n",
    "hh = (n/(p[-1] - p[0]))**2\n",
    "hh2 = 2*hh\n",
    "#this cuts off the endpoints \n",
    "A = np.zeros(shape = (n-1,n-1))\n",
    "V = np.zeros(n+1)\n",
    "\n",
    "#initialize \n",
    "starttime = time.time()\n",
    "\n",
    "for i in range(n):\n",
    "    V[i] = (p[i]**2)+(p[i]**(-1))\n",
    "\n",
    "for i in range(n-1):\n",
    "        A[i][i] = hh2+V[i+1]\n",
    "#we evaluate v[i+1] so that we avoid the 0 point \n",
    "#dont overwrite (n-2)\n",
    "for i in range(n-2):\n",
    "        A[i+1][i]= A[i][i+1] = -hh\n",
    "        \n",
    "evals = la.eigvals(A)\n",
    "#print(evals)\n",
    "total = time.time()-starttime\n",
    "\n",
    "s = np.sort(evals)\n",
    "print(s)\n"
   ]
  },
  {
   "cell_type": "code",
   "execution_count": 24,
   "metadata": {
    "collapsed": false
   },
   "outputs": [
    {
     "data": {
      "text/plain": [
       "array([ 5.53112887+0.j, -2.53112887+0.j])"
      ]
     },
     "execution_count": 24,
     "metadata": {},
     "output_type": "execute_result"
    }
   ],
   "source": [
    "test = np.array([[2.0,-4.0],[-4.0,1.0]])\n",
    "testvals = la.eigvals(test)\n",
    "\n",
    "\n",
    "#find largest \n",
    "def pickmax(a):\n",
    "    \n",
    "    #initialize the maximum value and its indices\n",
    "    big = -1. \n",
    "    indi = 0\n",
    "    indj = 0\n",
    "    \n",
    "    #iterate over matrix (input a) to find largest value\n",
    "    for i in range(len(a)):\n",
    "        for j in range(i+1,len(a)):\n",
    "            if abs(a[i][j])> big:\n",
    "                big = abs(a[i][j])\n",
    "                indi = i\n",
    "                indj = j\n",
    "    return big, indi, indj\n",
    "'''\n",
    "def calctau(a,p,q):\n",
    "    if a[p][q] != 0:\n",
    "        tau = (a[q][q]-a[p][p])/(2*a[p][q])\n",
    "    return tau\n",
    "'''\n",
    "\n",
    "testvals"
   ]
  },
  {
   "cell_type": "code",
   "execution_count": 25,
   "metadata": {
    "collapsed": false
   },
   "outputs": [],
   "source": [
    "def settrig(a,p,q):\n",
    "    t = s = c = 0\n",
    "    if a[p][q] != 0:\n",
    "        tau = (a[q][q]-a[p][p])/(2*a[p][q])\n",
    "    \n",
    "        if tau < 0:\n",
    "             t = -(-tau+math.sqrt(1+tau**2))**(-1.)\n",
    "        else: \n",
    "            t = (tau+math.sqrt(1+tau**2))**(-1.)\n",
    "        c = (math.sqrt(1+t**2))**(-1.)\n",
    "        s = t*c\n",
    "    else:\n",
    "        c = 1.0\n",
    "        s = 0.0\n",
    "    return t,c,s\n"
   ]
  },
  {
   "cell_type": "code",
   "execution_count": 33,
   "metadata": {
    "collapsed": false
   },
   "outputs": [
    {
     "data": {
      "text/plain": [
       "(array([[ 5.53112887,  0.        ],\n",
       "        [ 0.        , -2.53112887]]), 4.0)"
      ]
     },
     "execution_count": 33,
     "metadata": {},
     "output_type": "execute_result"
    }
   ],
   "source": [
    "b = np.zeros_like(test)\n",
    "a = test\n",
    "\n",
    "\n",
    "def jacobi(a):\n",
    "    maxval, p, q = pickmax(a)\n",
    "\n",
    "    t,c,s = settrig(a,p,q)\n",
    "    \n",
    "    b = cp.copy(a)\n",
    "    \n",
    "    \n",
    "    \n",
    "    for i in range(len(a)):\n",
    "        if i!=p or i!=q:\n",
    "            b[i][p] = a[i][p]*c-a[i][q]*s\n",
    "            b[i][q] = a[i][q]*c+a[i][p]*s\n",
    "            b[p][i] = b[i][p]\n",
    "            b[q][i] = b[i][q]\n",
    "    b[p][p] = a[p][p]*c**2-2*a[p][q]*c*s+a[q][q]*s**2\n",
    "    b[q][q] = a[p][p]*s**2+2*a[p][q]*c*s+a[q][q]*c**2\n",
    "    b[p][q] = b[q][p] = 0\n",
    "    return b,maxval\n",
    "jacobi(test)"
   ]
  },
  {
   "cell_type": "code",
   "execution_count": 27,
   "metadata": {
    "collapsed": false
   },
   "outputs": [
    {
     "name": "stdout",
     "output_type": "stream",
     "text": [
      "[ 6.73205081+0.j  2.00000000+0.j  3.26794919+0.j] [[ 4.  2.  1.]\n",
      " [ 2.  4.  1.]\n",
      " [ 1.  1.  4.]]\n"
     ]
    }
   ],
   "source": [
    "test3 = np.array([[4.,2.,1.],[2.,4.,1.],[1.,1.,4.]])\n",
    "test3vals = la.eigvals(test3)\n",
    "#test3vals \n",
    "print(test3vals, test3)"
   ]
  },
  {
   "cell_type": "code",
   "execution_count": 28,
   "metadata": {
    "collapsed": false,
    "scrolled": true
   },
   "outputs": [
    {
     "name": "stdout",
     "output_type": "stream",
     "text": [
      "0 1\n",
      "[[ 2.          0.          0.        ]\n",
      " [ 0.          6.          1.41421356]\n",
      " [ 0.          1.41421356  4.        ]]\n",
      "1 2\n",
      "[[ 2.          0.          0.        ]\n",
      " [ 0.          6.73205081  0.        ]\n",
      " [ 0.          0.          3.26794919]]\n",
      "0 1\n",
      "[[ 2.          0.          0.        ]\n",
      " [ 0.          6.73205081  0.        ]\n",
      " [ 0.          0.          3.26794919]]\n"
     ]
    },
    {
     "data": {
      "text/plain": [
       "array([[ 2.        ,  0.        ,  0.        ],\n",
       "       [ 0.        ,  6.73205081,  0.        ],\n",
       "       [ 0.        ,  0.        ,  3.26794919]])"
      ]
     },
     "execution_count": 28,
     "metadata": {},
     "output_type": "execute_result"
    }
   ],
   "source": [
    "test3 = np.array([[4.,2.,1.],[2.,4.,1.],[1.,1.,4.]])\n",
    "tolerance = 10**(-3)\n",
    "maxval = 100\n",
    "while maxval > tolerance:\n",
    "#for i in range(3):\n",
    "    test3, maxval =jacobi(test3)\n",
    "    print(test3)\n",
    "test3"
   ]
  },
  {
   "cell_type": "code",
   "execution_count": 29,
   "metadata": {
    "collapsed": false
   },
   "outputs": [
    {
     "name": "stdout",
     "output_type": "stream",
     "text": [
      "0 1\n",
      "1 2\n",
      "0 1\n"
     ]
    },
    {
     "data": {
      "text/plain": [
       "array([[ 2.        ,  0.        ,  0.        ],\n",
       "       [ 0.        ,  6.73205081,  0.        ],\n",
       "       [ 0.        ,  0.        ,  3.26794919]])"
      ]
     },
     "execution_count": 29,
     "metadata": {},
     "output_type": "execute_result"
    }
   ],
   "source": [
    "test3 = np.array([[4.,2.,1.],[2.,4.,1.],[1.,1.,4.]])\n",
    "\n",
    "def esolver(matrix, tolerance):\n",
    "    maxval = tolerance+10\n",
    "    \n",
    "    while tolerance<=maxval:\n",
    "        matrix, maxval =jacobi(matrix )\n",
    "        \n",
    "    return matrix\n",
    "esolver(test3,.001)"
   ]
  },
  {
   "cell_type": "code",
   "execution_count": 38,
   "metadata": {
    "collapsed": false
   },
   "outputs": [
    {
     "ename": "NameError",
     "evalue": "name 'Sort' is not defined",
     "output_type": "error",
     "traceback": [
      "\u001b[0;31m---------------------------------------------------------------------------\u001b[0m",
      "\u001b[0;31mNameError\u001b[0m                                 Traceback (most recent call last)",
      "\u001b[0;32m<ipython-input-38-0475970666fc>\u001b[0m in \u001b[0;36m<module>\u001b[0;34m()\u001b[0m\n\u001b[0;32m----> 1\u001b[0;31m \u001b[0mSort\u001b[0m\u001b[0;34m(\u001b[0m\u001b[0mesolver\u001b[0m\u001b[0;34m(\u001b[0m\u001b[0mA\u001b[0m\u001b[0;34m,\u001b[0m\u001b[0;36m.0001\u001b[0m\u001b[0;34m)\u001b[0m\u001b[0;34m)\u001b[0m\u001b[0;34m\u001b[0m\u001b[0m\n\u001b[0m",
      "\u001b[0;31mNameError\u001b[0m: name 'Sort' is not defined"
     ]
    }
   ],
   "source": [
    "esolver(A,.0001)"
   ]
  },
  {
   "cell_type": "code",
   "execution_count": null,
   "metadata": {
    "collapsed": true
   },
   "outputs": [],
   "source": [
    "\n",
    "    "
   ]
  }
 ],
 "metadata": {
  "anaconda-cloud": {},
  "kernelspec": {
   "display_name": "Python [conda root]",
   "language": "python",
   "name": "conda-root-py"
  },
  "language_info": {
   "codemirror_mode": {
    "name": "ipython",
    "version": 3
   },
   "file_extension": ".py",
   "mimetype": "text/x-python",
   "name": "python",
   "nbconvert_exporter": "python",
   "pygments_lexer": "ipython3",
   "version": "3.5.2"
  }
 },
 "nbformat": 4,
 "nbformat_minor": 1
}
