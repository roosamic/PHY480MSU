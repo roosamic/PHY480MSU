{
 "cells": [
  {
   "cell_type": "code",
   "execution_count": 1,
   "metadata": {
    "collapsed": true
   },
   "outputs": [],
   "source": [
    "import csv \n",
    "import sys\n",
    "import matplotlib.pyplot as plt\n",
    "%matplotlib inline\n",
    "import glob\n",
    "import numpy as np"
   ]
  },
  {
   "cell_type": "code",
   "execution_count": 2,
   "metadata": {
    "collapsed": false
   },
   "outputs": [],
   "source": [
    "   \n",
    "def clean(file):\n",
    "    '''\n",
    "    Takes .txt files outputed from the stat sampler code in the molecular dynamics project\n",
    "    and turns them into arrays for analysis\n",
    "    '''\n",
    "    data = []\n",
    "    with open(file) as stat:\n",
    "\n",
    "        try:\n",
    "            reader = csv.reader(stat,delimiter = ' ')\n",
    "            for row in reader:\n",
    "                data.append(row)\n",
    "        finally:\n",
    "            stat.close()\n",
    "        #probably not the most efficient but i had to convince py that the entries were floats\n",
    "        for i in range(len(data)):\n",
    "            for j in range(len(data[i])):\n",
    "                data[i][j] = float(data[i][j][:])\n",
    "\n",
    "            \n",
    "    return data\n",
    "\n",
    "\n",
    "\n",
    "def getD(datalist,index):\n",
    "\n",
    "    mr2 = [row[2] for row in datalist[index]]\n",
    "    time = [row[0] for row in datalist[index]]\n",
    "    D = np.zeros_like(time)\n",
    "    #einstein relation for diffusion \n",
    "    for k in range(len(mr2)):\n",
    "        D[k] = mr2[k]/6/time[k]\n",
    "        \n",
    "    return np.average(D)\n",
    "\n",
    "\n",
    "\n",
    "def getT(datalist,index,time):\n",
    "    temp = [119.735*row[6] for row in datalist[index]]\n",
    "    \n",
    "    return temp[time]"
   ]
  },
  {
   "cell_type": "code",
   "execution_count": 16,
   "metadata": {
    "collapsed": false
   },
   "outputs": [],
   "source": [
    "#black box wizardry, but doesnt matter i have a list of .txt files now\n",
    "filelist = glob.glob('*.txt')\n",
    "datalist =[]\n",
    "for file in filelist:\n",
    "    datalist.append(clean(file))\n",
    "    \n"
   ]
  },
  {
   "cell_type": "code",
   "execution_count": 5,
   "metadata": {
    "collapsed": false,
    "scrolled": false
   },
   "outputs": [
    {
     "data": {
      "text/plain": [
       "<matplotlib.text.Text at 0x7f3e4c432990>"
      ]
     },
     "execution_count": 5,
     "metadata": {},
     "output_type": "execute_result"
    },
    {
     "data": {
      "image/png": "[encoded data removed]",
      "text/plain": [
       "<matplotlib.figure.Figure at 0x7f3ea64fd610>"
      ]
     },
     "metadata": {},
     "output_type": "display_data"
    }
   ],
   "source": [
    "temps1 = []\n",
    "ds1 = []\n",
    "\n",
    "for i in range(len(datalist)):\n",
    "    temps1.append(getT(datalist,i,0))\n",
    "    ds1.append(getD(datalist,i))\n",
    "plt.scatter(temps1,ds1)\n",
    "plt.xlabel('$T_0$ (K)')\n",
    "plt.ylabel('D (10 $A^2/s$)')\n",
    "plt.title('Diffusion vs initial Temperature')"
   ]
  },
  {
   "cell_type": "code",
   "execution_count": 6,
   "metadata": {
    "collapsed": false
   },
   "outputs": [
    {
     "data": {
      "text/plain": [
       "<matplotlib.text.Text at 0x7f3e4b3f0290>"
      ]
     },
     "execution_count": 6,
     "metadata": {},
     "output_type": "execute_result"
    },
    {
     "data": {
      "image/png": "[encoded data removed]",
      "text/plain": [
       "<matplotlib.figure.Figure at 0x7f3e4b849550>"
      ]
     },
     "metadata": {},
     "output_type": "display_data"
    }
   ],
   "source": [
    "temps2 = []\n",
    "ds2 = []\n",
    "\n",
    "for i in range(len(datalist)):\n",
    "    temps2.append(getT(datalist,i,1000))\n",
    "    ds2.append(getD(datalist,i))\n",
    "plt.scatter(temps2,ds2)\n",
    "plt.xlabel('$T_e$ (K)')\n",
    "plt.ylabel('D (10 $A^2$/s)')\n",
    "plt.title('Diffusion vs Equilibrium Temperature')"
   ]
  },
  {
   "cell_type": "code",
   "execution_count": 13,
   "metadata": {
    "collapsed": false
   },
   "outputs": [
    {
     "data": {
      "text/plain": [
       "<matplotlib.text.Text at 0x7f5c3ae95d50>"
      ]
     },
     "execution_count": 13,
     "metadata": {},
     "output_type": "execute_result"
    },
    {
     "data": {
      "image/png": "[encoded data removed]",
      "text/plain": [
       "<matplotlib.figure.Figure at 0x7f5c3af4e7d0>"
      ]
     },
     "metadata": {},
     "output_type": "display_data"
    }
   ],
   "source": [
    "def fullT(datalist,index):\n",
    "    temp = [119.735*row[6] for row in datalist[index]]\n",
    "    \n",
    "    return temp\n",
    "\n",
    "\n",
    "for i in range(len(datalist)):\n",
    "    time = [row[0] for row in datalist[i]]\n",
    "    T0s = [119.735*row[6] for row in datalist[index]]\n",
    "    plt.plot(T0s,time)\n",
    "    \n",
    "    \n",
    "    \n",
    "plt.xlabel('$T_0$ (K)')\n",
    "plt.ylabel('D (10 $A^2/s$)')\n",
    "plt.title('Diffusion vs initial Temperature')"
   ]
  },
  {
   "cell_type": "code",
   "execution_count": 17,
   "metadata": {
    "collapsed": false
   },
   "outputs": [
    {
     "ename": "IndexError",
     "evalue": "list index out of range",
     "output_type": "error",
     "traceback": [
      "\u001b[0;31m---------------------------------------------------------------------------\u001b[0m",
      "\u001b[0;31mIndexError\u001b[0m                                Traceback (most recent call last)",
      "\u001b[0;32m<ipython-input-17-d7e7f119a9eb>\u001b[0m in \u001b[0;36m<module>\u001b[0;34m()\u001b[0m\n\u001b[0;32m----> 1\u001b[0;31m \u001b[0mT0s\u001b[0m \u001b[0;34m=\u001b[0m \u001b[0;34m[\u001b[0m\u001b[0;36m119.735\u001b[0m\u001b[0;34m*\u001b[0m\u001b[0mrow\u001b[0m\u001b[0;34m[\u001b[0m\u001b[0;36m6\u001b[0m\u001b[0;34m]\u001b[0m \u001b[0;32mfor\u001b[0m \u001b[0mrow\u001b[0m \u001b[0;32min\u001b[0m \u001b[0mdatalist\u001b[0m\u001b[0;34m[\u001b[0m\u001b[0;36m0\u001b[0m\u001b[0;34m]\u001b[0m\u001b[0;34m]\u001b[0m\u001b[0;34m\u001b[0m\u001b[0m\n\u001b[0m",
      "\u001b[0;31mIndexError\u001b[0m: list index out of range"
     ]
    }
   ],
   "source": [
    "T0s = [119.735*row[6] for row in datalist[0]]"
   ]
  },
  {
   "cell_type": "code",
   "execution_count": null,
   "metadata": {
    "collapsed": true
   },
   "outputs": [],
   "source": []
  }
 ],
 "metadata": {
  "kernelspec": {
   "display_name": "Python 2",
   "language": "python",
   "name": "python2"
  },
  "language_info": {
   "codemirror_mode": {
    "name": "ipython",
    "version": 2
   },
   "file_extension": ".py",
   "mimetype": "text/x-python",
   "name": "python",
   "nbconvert_exporter": "python",
   "pygments_lexer": "ipython2",
   "version": "2.7.12"
  }
 },
 "nbformat": 4,
 "nbformat_minor": 2
}
