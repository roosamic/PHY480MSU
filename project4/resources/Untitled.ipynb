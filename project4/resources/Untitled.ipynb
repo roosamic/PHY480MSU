{
 "cells": [
  {
   "cell_type": "code",
   "execution_count": 1,
   "metadata": {
    "collapsed": false
   },
   "outputs": [
    {
     "ename": "ImportError",
     "evalue": "No module named Unit_Conversion",
     "output_type": "error",
     "traceback": [
      "\u001b[0;31m---------------------------------------------------------------------------\u001b[0m",
      "\u001b[0;31mImportError\u001b[0m                               Traceback (most recent call last)",
      "\u001b[0;32m<ipython-input-1-db91e379d8c9>\u001b[0m in \u001b[0;36m<module>\u001b[0;34m()\u001b[0m\n\u001b[1;32m      1\u001b[0m \u001b[0;32mimport\u001b[0m \u001b[0mnumpy\u001b[0m \u001b[0;32mas\u001b[0m \u001b[0mnp\u001b[0m\u001b[0;34m\u001b[0m\u001b[0m\n\u001b[0;32m----> 2\u001b[0;31m \u001b[0;32mfrom\u001b[0m \u001b[0mMD_Class\u001b[0m \u001b[0;32mimport\u001b[0m \u001b[0;34m*\u001b[0m\u001b[0;34m\u001b[0m\u001b[0m\n\u001b[0m\u001b[1;32m      3\u001b[0m \u001b[0;34m\u001b[0m\u001b[0m\n\u001b[1;32m      4\u001b[0m \u001b[0;31m# myCell = Atom(10, [20, 20, 20], 39.948, 1, 5.260, 2)\u001b[0m\u001b[0;34m\u001b[0m\u001b[0;34m\u001b[0m\u001b[0m\n\u001b[1;32m      5\u001b[0m \u001b[0mmyCell8\u001b[0m \u001b[0;34m=\u001b[0m \u001b[0mAtom\u001b[0m\u001b[0;34m(\u001b[0m\u001b[0;36m1\u001b[0m\u001b[0;34m,\u001b[0m \u001b[0;34m[\u001b[0m\u001b[0;36m20\u001b[0m\u001b[0;34m,\u001b[0m \u001b[0;36m20\u001b[0m\u001b[0;34m,\u001b[0m \u001b[0;36m20\u001b[0m\u001b[0;34m]\u001b[0m\u001b[0;34m,\u001b[0m \u001b[0;36m39.948\u001b[0m\u001b[0;34m,\u001b[0m \u001b[0;36m1\u001b[0m\u001b[0;34m,\u001b[0m \u001b[0;36m5.405\u001b[0m\u001b[0;34m,\u001b[0m \u001b[0;36m2\u001b[0m\u001b[0;34m)\u001b[0m\u001b[0;34m\u001b[0m\u001b[0m\n",
      "\u001b[0;32m/home/mroosa/git_repos/my_PHY480/project4/resources/attachments/MD_Class.py\u001b[0m in \u001b[0;36m<module>\u001b[0;34m()\u001b[0m\n\u001b[1;32m      6\u001b[0m \u001b[0;32mimport\u001b[0m \u001b[0mnumpy\u001b[0m\u001b[0;34m.\u001b[0m\u001b[0mlinalg\u001b[0m \u001b[0;32mas\u001b[0m \u001b[0mlg\u001b[0m\u001b[0;34m\u001b[0m\u001b[0m\n\u001b[1;32m      7\u001b[0m \u001b[0;32mfrom\u001b[0m \u001b[0moperator\u001b[0m \u001b[0;32mimport\u001b[0m \u001b[0mmul\u001b[0m\u001b[0;34m\u001b[0m\u001b[0m\n\u001b[0;32m----> 8\u001b[0;31m \u001b[0;32mfrom\u001b[0m \u001b[0mUnit_Conversion\u001b[0m \u001b[0;32mimport\u001b[0m \u001b[0;34m*\u001b[0m\u001b[0;34m\u001b[0m\u001b[0m\n\u001b[0m\u001b[1;32m      9\u001b[0m \u001b[0;34m\u001b[0m\u001b[0m\n\u001b[1;32m     10\u001b[0m \u001b[0;34m\u001b[0m\u001b[0m\n",
      "\u001b[0;31mImportError\u001b[0m: No module named Unit_Conversion"
     ]
    }
   ],
   "source": [
    "import numpy as np\n",
    "from MD_Class import *\n",
    "\n",
    "# myCell = Atom(10, [20, 20, 20], 39.948, 1, 5.260, 2)\n",
    "myCell8 = Atom(1, [20, 20, 20], 39.948, 1, 5.405, 2)\n",
    "myCell9 = Atom(1, [20, 20, 20], 39.948, 1, 5.405, 2)\n",
    "myCell10 = Atom(1, [20, 20, 20], 39.948, 1, 5.405, 2)\n",
    "myCell11 = Atom(1, [20, 20, 20], 39.948, 1, 5.405, 2)\n",
    "myCell12 = Atom(1, [20, 20, 20], 39.948, 1, 5.405, 2)\n",
    "myCell13 = Atom(1, [20, 20, 20], 39.948, 1, 5.405, 2)\n",
    "myCell14 = Atom(1, [20, 20, 20], 39.948, 1, 5.405, 2)\n",
    "myCell15 = Atom(1, [20, 20, 20], 39.948, 1, 5.260, 2)\n",
    "\n",
    "myCell8.assignTemperture(300)\n",
    "myCell9.assignTemperture(100)\n",
    "myCell10.assignTemperture(50)\n",
    "myCell11.assignTemperture(0.01)\n",
    "# myCell12.assignTemperture(110)\n",
    "# myCell13.assignTemperture(130)\n",
    "# myCell14.assignTemperture(140)\n",
    "# myCell15.assignTemperture(10)\n",
    "\n",
    "\n",
    "s8 = MDSystem()\n",
    "s8.addStructure(myCell8)\n",
    "s8.setDump('traj_300.xyz', 100, 3)\n",
    "s8.setLog('Ar_log_300.txt', 100, 1)\n",
    "\n",
    "# s9 = MDSystem()\n",
    "# s9.addStructure(myCell9)\n",
    "# s9.setDump('traj9_100.xyz', 100, 3)\n",
    "# s9.setLog('Ar_log9_100.txt', 100, 1)\n",
    "#\n",
    "# s10 = MDSystem()\n",
    "# s10.addStructure(myCell10)\n",
    "# s10.setDump('traj10_50.xyz', 100, 3)\n",
    "# s10.setLog('Ar_log10_50.txt', 100, 1)\n",
    "#\n",
    "# s11 = MDSystem()\n",
    "# s11.addStructure(myCell11)\n",
    "# s11.setDump('traj11_0.xyz', 100, 3)\n",
    "# s11.setLog('Ar_log11_0.txt', 100, 1)\n",
    "#\n",
    "# s12 = MDSystem()\n",
    "# s12.addStructure(myCell12)\n",
    "# s12.setDump('traj12_110.xyz', 100, 3)\n",
    "# s12.setLog('Ar_log12_110.txt', 100, 1)\n",
    "#\n",
    "# s13 = MDSystem()\n",
    "# s13.addStructure(myCell13)\n",
    "# s13.setDump('traj13_130.xyz', 100, 3)\n",
    "# s13.setLog('Ar_log13_130.txt', 100, 1)\n",
    "#\n",
    "# s14 = MDSystem()\n",
    "# s14.addStructure(myCell14)\n",
    "# s14.setDump('traj14_140.xyz', 100, 3)\n",
    "# s14.setLog('Ar_log14_140.txt', 100, 1)\n",
    "#\n",
    "# s15 = MDSystem()\n",
    "# s15.addStructure(myCell15)\n",
    "# s15.setDump('traj15_005.xyz', 20, 3)\n",
    "# s15.setLog('Ar_log15_005.txt', 20, 1)\n",
    "\n",
    "\n",
    "s8.nve(0.001, 10)\n",
    "# s9.nve(0.001, 50)\n",
    "# s10.nve(0.001, 50)\n",
    "# s11.nve(0.001, 50)\n",
    "# s12.nve(0.001, 50)\n",
    "# s13.nve(0.001, 50)\n",
    "# s14.nve(0.001, 50)\n",
    "# s15.nve(0.05, 50)\n"
   ]
  },
  {
   "cell_type": "code",
   "execution_count": null,
   "metadata": {
    "collapsed": true
   },
   "outputs": [],
   "source": []
  }
 ],
 "metadata": {
  "kernelspec": {
   "display_name": "Python 2",
   "language": "python",
   "name": "python2"
  },
  "language_info": {
   "codemirror_mode": {
    "name": "ipython",
    "version": 2
   },
   "file_extension": ".py",
   "mimetype": "text/x-python",
   "name": "python",
   "nbconvert_exporter": "python",
   "pygments_lexer": "ipython2",
   "version": "2.7.12"
  }
 },
 "nbformat": 4,
 "nbformat_minor": 2
}
